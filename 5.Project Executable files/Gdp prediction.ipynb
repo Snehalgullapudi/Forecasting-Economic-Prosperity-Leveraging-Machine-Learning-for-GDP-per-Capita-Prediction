{
 "cells": [
  {
   "cell_type": "code",
   "execution_count": null,
   "id": "f55534ae-1545-4ec9-8c4b-f32c94302768",
   "metadata": {},
   "outputs": [],
   "source": [
    "import numpy as np\n",
    "import pandas as pd\n",
    "from scipy import stats\n",
    "from sklearn.model_selection import train_test_split, GridSearchCV\n",
    "from sklearn.linear_model import LinearRegression\n",
    "from sklearn.ensemble import RandomForestRegressor\n",
    "from sklearn.svm import SVR\n",
    "from sklearn.metrics import r2_score, mean_absolute_error, mean_squared_error\n",
    "import pickle\n",
    "import matplotlib.pyplot as plt\n",
    "import seaborn as sns\n"
   ]
  },
  {
   "cell_type": "code",
   "execution_count": null,
   "id": "630a7721-e8fa-4f47-9de9-c2d8e85fca70",
   "metadata": {},
   "outputs": [],
   "source": [
    "df = pd.read_csv('countries of the world.csv')"
   ]
  },
  {
   "cell_type": "code",
   "execution_count": null,
   "id": "7b6a1bc6-27b7-4502-b1c9-89733f84941a",
   "metadata": {},
   "outputs": [],
   "source": [
    "columns_to_convert = [\n",
    "    'Population', 'Area (sq. mi.)', 'Pop. Density (per sq. mi.)', 'Coastline (coast/area ratio)', \n",
    "    'Net migration', 'GDP ($ per capita)', 'Literacy (%)', 'Phones (per 1000)', \n",
    "    'Arable (%)', 'Crops (%)', 'Climate', 'Birthrate', 'Deathrate', 'Agriculture', \n",
    "    'Industry', 'Service'\n",
    "]\n",
    "\n",
    "# Replace commas with dots and convert to numeric\n",
    "for column in columns_to_convert:\n",
    "    df[column] = df[column].astype(str).str.replace(',', '')\n",
    "    df[column] = pd.to_numeric(df[column], errors='coerce')\n",
    "    df[column].fillna(df[column].mean(), inplace=True)"
   ]
  },
  {
   "cell_type": "code",
   "execution_count": null,
   "id": "11e839e7",
   "metadata": {},
   "outputs": [],
   "source": [
    "#UnivariateAnalysis\n",
    "plt.figure(figsize=(10,6))\n",
    "sns.countplot(df['Region'])\n",
    "plt.xticks(rotation=90)\n",
    "plt.show()"
   ]
  },
  {
   "cell_type": "code",
   "execution_count": null,
   "id": "a2dfea6f",
   "metadata": {},
   "outputs": [],
   "source": [
    "df_n = df.select_dtypes (include=['int','float']) \n",
    "features = list(df_n.columns)\n",
    "\"\"\"Out of 18 features 15 features have outliers\"\"\"\n",
    "for i,j in enumerate(features):\n",
    "    plt.figure(figsize=(20,50)) \n",
    "    plt.subplot(9,2,i+1) \n",
    "    sns.boxplot(df_n[j])\n",
    "    plt.show()"
   ]
  },
  {
   "cell_type": "code",
   "execution_count": null,
   "id": "aa83e361",
   "metadata": {},
   "outputs": [],
   "source": [
    "#Multivariate Analysis\n",
    "plt.figure(figsize=(15,15)) \n",
    "sns.heatmap(df.corr().abs(),annot=True)"
   ]
  },
  {
   "cell_type": "code",
   "execution_count": null,
   "id": "d2968d34-6535-4c3d-ad3f-8a26a89d78fd",
   "metadata": {},
   "outputs": [],
   "source": [
    "df.drop(['Other (%)', 'Infant mortality (per 1000 births)', 'Country', 'Region'], axis=1, inplace=True)"
   ]
  },
  {
   "cell_type": "code",
   "execution_count": null,
   "id": "af788d23",
   "metadata": {},
   "outputs": [],
   "source": [
    "#Descriptive Analysis\n",
    "df.describe(include='all')"
   ]
  },
  {
   "cell_type": "code",
   "execution_count": null,
   "id": "4656b6fc-b41b-4fe0-8959-e8d7909df11b",
   "metadata": {},
   "outputs": [],
   "source": [
    "# z_scores = np.abs(stats.zscore(df[columns_to_convert]))\n",
    "# df = df[(z_scores < 3).all(axis=1)]\n",
    "\n",
    "# Reapply transformations\n",
    "# df['Population'] = np.log(df['Population'])\n",
    "# df['Area (sq. mi.)'] = np.log(df['Area (sq. mi.)'])\n",
    "# df['Pop. Density (per sq. mi.)'] = np.log1p(df['Pop. Density (per sq. mi.)']) \n",
    "# df['Coastline (coast/area ratio)'] = np.log1p(df['Coastline (coast/area ratio)'])\n",
    "# df['Net migration'] = np.sqrt(df['Net migration'])\n",
    "# df['GDP ($ per capita)'] = np.log(df['GDP ($ per capita)'])\n",
    "# df['Phones (per 1000)'] = np.sqrt(df['Phones (per 1000)'])\n",
    "# df['Arable (%)'] = np.sqrt(df['Arable (%)'])\n",
    "# df['Crops (%)'] = np.log1p(df['Crops (%)']) \n",
    "# df['Deathrate'] = np.log(df['Deathrate'])\n",
    "# df['Agriculture'] = np.sqrt(df['Agriculture'])\n",
    "# df['Industry'] = np.sqrt(df['Industry'])\n"
   ]
  },
  {
   "cell_type": "code",
   "execution_count": null,
   "id": "cbf71b5f-b421-405d-8f52-1b33adad3ed5",
   "metadata": {},
   "outputs": [],
   "source": [
    "df.drop(['Literacy (%)','Net migration','Population','Area (sq. mi.)','Coastline (coast/area ratio)'], axis=1,inplace=True)"
   ]
  },
  {
   "cell_type": "code",
   "execution_count": null,
   "id": "94bf35bf-ff59-4124-8460-c2b2f722aaa8",
   "metadata": {},
   "outputs": [],
   "source": [
    "x = df.drop('GDP ($ per capita)', axis=1)\n",
    "y = df['GDP ($ per capita)']\n"
   ]
  },
  {
   "cell_type": "code",
   "execution_count": null,
   "id": "6bae144c-d5a3-45f7-afaa-96fa2b26279f",
   "metadata": {},
   "outputs": [],
   "source": [
    "x_train, x_test, y_train, y_test = train_test_split(x, y, test_size=0.3, random_state=10)"
   ]
  },
  {
   "cell_type": "code",
   "execution_count": null,
   "id": "39544dff-5e1d-40d1-b80d-5d2b8ca90094",
   "metadata": {},
   "outputs": [],
   "source": [
    "lr = LinearRegression()\n",
    "lr.fit(x_train, y_train)\n",
    "y_pred_lr = lr.predict(x_test)"
   ]
  },
  {
   "cell_type": "code",
   "execution_count": null,
   "id": "d4fc4810-0fe1-4ccc-aea7-171db56b4621",
   "metadata": {},
   "outputs": [],
   "source": [
    "rf = RandomForestRegressor()\n",
    "param_grid_rf = {\n",
    "    'n_estimators': [50, 100, 200],\n",
    "    'max_depth': [None, 10, 20, 30],\n",
    "    'min_samples_split': [2, 5, 10],\n",
    "    'min_samples_leaf': [1, 2, 4],\n",
    "    'bootstrap': [True, False]\n",
    "}"
   ]
  },
  {
   "cell_type": "code",
   "execution_count": null,
   "id": "f2af2052-840c-4669-a2d2-407850a3e0c2",
   "metadata": {},
   "outputs": [],
   "source": [
    "grid_search_rf = GridSearchCV(estimator=rf, param_grid=param_grid_rf, cv=5, n_jobs=-1, verbose=2)\n",
    "grid_search_rf.fit(x_train, y_train)\n",
    "best_rf = grid_search_rf.best_estimator_"
   ]
  },
  {
   "cell_type": "code",
   "execution_count": null,
   "id": "8bfbec87",
   "metadata": {},
   "outputs": [],
   "source": [
    "# Display the best parameters for the Random Forest model\n",
    "print(\"Best parameters for Random Forest:\", grid_search_rf.best_params_)\n"
   ]
  },
  {
   "cell_type": "code",
   "execution_count": null,
   "id": "356e722d-ae3c-466c-a557-9e68a96b20fc",
   "metadata": {},
   "outputs": [],
   "source": [
    "# Hyperparameter tuning for SVR\n",
    "svr = SVR()\n",
    "\n",
    "param_grid_svr = {\n",
    "    'kernel': ['linear', 'rbf'],\n",
    "    'C': [0.1, 1, 10],\n",
    "    'gamma': ['scale', 'auto']\n",
    "}"
   ]
  },
  {
   "cell_type": "code",
   "execution_count": 50,
   "id": "092aea2c-b37c-4029-9929-ddb794484aac",
   "metadata": {},
   "outputs": [],
   "source": [
    "grid_search_svr = GridSearchCV(estimator=svr, param_grid=param_grid_svr, cv=5, n_jobs=-1, verbose=2)\n",
    "grid_search_svr.fit(x_train, y_train)\n",
    "best_svr = grid_search_svr.best_estimator_"
   ]
  },
  {
   "cell_type": "code",
   "execution_count": null,
   "id": "32998b3b",
   "metadata": {},
   "outputs": [],
   "source": [
    "print(\"Best parameters for SVR:\", grid_search_svr.best_params_)"
   ]
  },
  {
   "cell_type": "code",
   "execution_count": null,
   "id": "4b4a6ee3-844f-4131-995e-d8ef944b202c",
   "metadata": {},
   "outputs": [],
   "source": [
    "# Predictions\n",
    "y_pred_rf = best_rf.predict(x_test)\n",
    "y_pred_svr = best_svr.predict(x_test)\n"
   ]
  },
  {
   "cell_type": "code",
   "execution_count": null,
   "id": "b6afa9e2-e153-421b-84b0-f4f6284afd95",
   "metadata": {},
   "outputs": [],
   "source": [
    "\n",
    "# Performance metrics\n",
    "metrics = {\n",
    "    'Model': ['Linear Regression', 'Random Forest', 'SVR'],\n",
    "    'R-squared': [\n",
    "        r2_score(y_test, y_pred_lr),\n",
    "        r2_score(y_test, y_pred_rf),\n",
    "        r2_score(y_test, y_pred_svr)\n",
    "    ],\n",
    "    'MAE': [\n",
    "        mean_absolute_error(y_test, y_pred_lr),\n",
    "        mean_absolute_error(y_test, y_pred_rf),\n",
    "        mean_absolute_error(y_test, y_pred_svr)\n",
    "    ],\n",
    "    'RMSE': [\n",
    "        np.sqrt(mean_squared_error(y_test, y_pred_lr)),\n",
    "        np.sqrt(mean_squared_error(y_test, y_pred_rf)),\n",
    "        np.sqrt(mean_squared_error(y_test, y_pred_svr))\n",
    "    ]\n",
    "}\n"
   ]
  },
  {
   "cell_type": "code",
   "execution_count": null,
   "id": "c23ba14b-52c2-435f-aa77-d2d69f8fc017",
   "metadata": {},
   "outputs": [],
   "source": [
    "\n",
    "metrics_df = pd.DataFrame(metrics)\n"
   ]
  },
  {
   "cell_type": "code",
   "execution_count": null,
   "id": "6cfbab99-5e59-454d-afde-f246d13927d4",
   "metadata": {},
   "outputs": [],
   "source": [
    "pickle.dump(best_rf, open('best_model.pkl', 'wb'))"
   ]
  },
  {
   "cell_type": "code",
   "execution_count": null,
   "id": "4715224c-d754-4882-8eec-b64194b17a07",
   "metadata": {},
   "outputs": [],
   "source": [
    "metrics_df"
   ]
  },
  {
   "cell_type": "code",
   "execution_count": null,
   "id": "8430ec88-7cab-40fe-b768-1ba282072a96",
   "metadata": {},
   "outputs": [],
   "source": []
  },
  {
   "cell_type": "code",
   "execution_count": null,
   "id": "ca05bad3-a187-4b92-8bc4-77c1ae545e43",
   "metadata": {},
   "outputs": [],
   "source": []
  },
  {
   "cell_type": "code",
   "execution_count": null,
   "id": "90ace75d-6ebd-4428-bbe3-1b3e9cc25326",
   "metadata": {},
   "outputs": [],
   "source": []
  },
  {
   "cell_type": "code",
   "execution_count": null,
   "id": "f85428c4-3a24-4087-93c5-496fd9759284",
   "metadata": {},
   "outputs": [],
   "source": []
  },
  {
   "cell_type": "code",
   "execution_count": null,
   "id": "aefc217e-4fbd-4709-9717-96c73811dc6b",
   "metadata": {},
   "outputs": [],
   "source": []
  },
  {
   "cell_type": "code",
   "execution_count": null,
   "id": "cd58f34b-9c44-4c68-9289-375bcc3e9f3c",
   "metadata": {},
   "outputs": [],
   "source": []
  },
  {
   "cell_type": "code",
   "execution_count": null,
   "id": "730b9879-15ed-4e5e-8f61-4a216d669a0f",
   "metadata": {},
   "outputs": [],
   "source": []
  }
 ],
 "metadata": {
  "kernelspec": {
   "display_name": "Python 3 (ipykernel)",
   "language": "python",
   "name": "python3"
  },
  "language_info": {
   "codemirror_mode": {
    "name": "ipython",
    "version": 3
   },
   "file_extension": ".py",
   "mimetype": "text/x-python",
   "name": "python",
   "nbconvert_exporter": "python",
   "pygments_lexer": "ipython3",
   "version": "3.12.4"
  }
 },
 "nbformat": 4,
 "nbformat_minor": 5
}
